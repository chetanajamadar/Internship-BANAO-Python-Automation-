{
 "cells": [
  {
   "cell_type": "markdown",
   "id": "e9c683c7",
   "metadata": {},
   "source": [
    "# Python selenium and basic linux awareness test"
   ]
  },
  {
   "cell_type": "markdown",
   "id": "f84b7771",
   "metadata": {},
   "source": [
    "Installing Package"
   ]
  },
  {
   "cell_type": "code",
   "execution_count": 15,
   "id": "d875c739",
   "metadata": {},
   "outputs": [
    {
     "name": "stdout",
     "output_type": "stream",
     "text": [
      "Requirement already satisfied: selenium in c:\\users\\chetana\\anaconda3\\anaconda\\lib\\site-packages (4.18.1)\n",
      "Requirement already satisfied: urllib3[socks]<3,>=1.26 in c:\\users\\chetana\\anaconda3\\anaconda\\lib\\site-packages (from selenium) (1.26.16)\n",
      "Requirement already satisfied: trio~=0.17 in c:\\users\\chetana\\anaconda3\\anaconda\\lib\\site-packages (from selenium) (0.25.0)\n",
      "Requirement already satisfied: trio-websocket~=0.9 in c:\\users\\chetana\\anaconda3\\anaconda\\lib\\site-packages (from selenium) (0.11.1)\n",
      "Requirement already satisfied: certifi>=2021.10.8 in c:\\users\\chetana\\anaconda3\\anaconda\\lib\\site-packages (from selenium) (2023.7.22)\n",
      "Requirement already satisfied: typing_extensions>=4.9.0 in c:\\users\\chetana\\anaconda3\\anaconda\\lib\\site-packages (from selenium) (4.10.0)\n",
      "Requirement already satisfied: attrs>=23.2.0 in c:\\users\\chetana\\anaconda3\\anaconda\\lib\\site-packages (from trio~=0.17->selenium) (23.2.0)\n",
      "Requirement already satisfied: sortedcontainers in c:\\users\\chetana\\anaconda3\\anaconda\\lib\\site-packages (from trio~=0.17->selenium) (2.4.0)\n",
      "Requirement already satisfied: idna in c:\\users\\chetana\\anaconda3\\anaconda\\lib\\site-packages (from trio~=0.17->selenium) (3.4)\n",
      "Requirement already satisfied: outcome in c:\\users\\chetana\\anaconda3\\anaconda\\lib\\site-packages (from trio~=0.17->selenium) (1.3.0.post0)\n",
      "Requirement already satisfied: sniffio>=1.3.0 in c:\\users\\chetana\\anaconda3\\anaconda\\lib\\site-packages (from trio~=0.17->selenium) (1.3.1)\n",
      "Requirement already satisfied: cffi>=1.14 in c:\\users\\chetana\\anaconda3\\anaconda\\lib\\site-packages (from trio~=0.17->selenium) (1.15.1)\n",
      "Requirement already satisfied: wsproto>=0.14 in c:\\users\\chetana\\anaconda3\\anaconda\\lib\\site-packages (from trio-websocket~=0.9->selenium) (1.2.0)\n",
      "Requirement already satisfied: PySocks!=1.5.7,<2.0,>=1.5.6 in c:\\users\\chetana\\anaconda3\\anaconda\\lib\\site-packages (from urllib3[socks]<3,>=1.26->selenium) (1.7.1)\n",
      "Requirement already satisfied: pycparser in c:\\users\\chetana\\anaconda3\\anaconda\\lib\\site-packages (from cffi>=1.14->trio~=0.17->selenium) (2.21)\n",
      "Requirement already satisfied: h11<1,>=0.9.0 in c:\\users\\chetana\\anaconda3\\anaconda\\lib\\site-packages (from wsproto>=0.14->trio-websocket~=0.9->selenium) (0.14.0)\n",
      "Note: you may need to restart the kernel to use updated packages.\n"
     ]
    }
   ],
   "source": [
    "pip install selenium"
   ]
  },
  {
   "cell_type": "markdown",
   "id": "b20d2c4f",
   "metadata": {},
   "source": [
    "The Selenium package is a widely used open-source tool primarily designed for automating web browsers. It allows developers and testers to interact with web pages programmatically, mimicking user interactions such as clicking buttons, filling out forms, and navigating through web pages. \n",
    "Selenium is a versatile tool that facilitates web automation, testing, and scraping tasks, making it a valuable asset for developers, testers, and data scientists working with web technologies."
   ]
  },
  {
   "cell_type": "code",
   "execution_count": 16,
   "id": "79367d1f",
   "metadata": {},
   "outputs": [],
   "source": [
    "import time\n",
    "from selenium import webdriver\n",
    "from selenium.common.exceptions import TimeoutException\n",
    "from selenium.webdriver.common.by import By\n",
    "from selenium.webdriver.support.ui import WebDriverWait\n",
    "from selenium.webdriver.support import expected_conditions as EC"
   ]
  },
  {
   "cell_type": "code",
   "execution_count": 17,
   "id": "8fd78260",
   "metadata": {},
   "outputs": [],
   "source": [
    "# Set up logging\n",
    "import logging\n",
    "logging.basicConfig(filename='selenium_log.txt', level=logging.INFO)"
   ]
  },
  {
   "cell_type": "code",
   "execution_count": 18,
   "id": "e75e31f3",
   "metadata": {},
   "outputs": [],
   "source": [
    "# Initialize Firefox WebDriver\n",
    "driver = webdriver.Firefox()"
   ]
  },
  {
   "cell_type": "code",
   "execution_count": 19,
   "id": "f7b472b4",
   "metadata": {},
   "outputs": [],
   "source": [
    "try:\n",
    "    # Open the website and check HTTP response code\n",
    "    driver.get(\"https://atg.party\")\n",
    "    logging.info(f\"HTTP response code: {driver.execute_script('return document.readyState;')}\")\n",
    "     # Measure response time\n",
    "    start_time = time.time()\n",
    "      # Wait for the LOGIN link to be clickable\n",
    "    login_link = WebDriverWait(driver, 20).until(EC.element_to_be_clickable((By.XPATH, \"//a[contains(text(),'LOGIN')]\")))\n",
    "    login_link.click()\n",
    "     # Log response time\n",
    "    logging.info(f\"Response time for page load: {time.time() - start_time} seconds\")\n",
    "    # Login\n",
    "    email = \"wiz_saurabh@rediffmail.com\"\n",
    "    password = \"Pass@123\"\n",
    "    WebDriverWait(driver, 20).until(EC.visibility_of_element_located((By.NAME, \"email\"))).send_keys(email)\n",
    "    WebDriverWait(driver, 20).until(EC.visibility_of_element_located((By.NAME, \"password\"))).send_keys(password)\n",
    "    WebDriverWait(driver, 20).until(EC.element_to_be_clickable((By.ID, \"login\"))).click()\n",
    "     # Go to article page\n",
    "    driver.get(\"https://atg.party/article\")\n",
    "\n",
    "    # Fill in title, description, and upload cover image\n",
    "    title = \"Sample Title\"\n",
    "    description = \"Sample Description\"\n",
    "    cover_image_path = \"/path/to/cover/image.jpg\"  # Update with actual path\n",
    "    WebDriverWait(driver, 20).until(EC.visibility_of_element_located((By.NAME, \"title\"))).send_keys(title)\n",
    "    WebDriverWait(driver, 20).until(EC.visibility_of_element_located((By.NAME, \"description\"))).send_keys(description)\n",
    "    WebDriverWait(driver, 20).until(EC.visibility_of_element_located((By.NAME, \"cover_img\"))).send_keys(cover_image_path)\n",
    "\n",
    "    # Click on POST\n",
    "    WebDriverWait(driver, 20).until(EC.element_to_be_clickable((By.XPATH, \"//button[contains(text(),'POST')]\"))).click()\n",
    "\n",
    "    # Log URL of the new page\n",
    "    logging.info(f\"URL after posting article: {driver.current_url}\")\n",
    "\n",
    "   # We handle any TimeoutException that might occur during the execution, logging the details of the timeout error.\n",
    "    \n",
    "except TimeoutException as e:\n",
    "    # Handle timeout exception\n",
    "    logging.error(f\"Timeout: {str(e)}\")\n",
    "\n",
    "finally:\n",
    "    # Close the browser\n",
    "    driver.quit()"
   ]
  },
  {
   "cell_type": "markdown",
   "id": "1eec4bee",
   "metadata": {},
   "source": [
    "## Conclusion\n",
    "This scripts automates the process of logging into a website, navigating to the article page, posting an article with a title, description, and cover image, and logging relevant information about the execution process. It demonstrates how Selenium can be used for web automation tasks in Python.\n"
   ]
  }
 ],
 "metadata": {
  "kernelspec": {
   "display_name": "Python 3 (ipykernel)",
   "language": "python",
   "name": "python3"
  },
  "language_info": {
   "codemirror_mode": {
    "name": "ipython",
    "version": 3
   },
   "file_extension": ".py",
   "mimetype": "text/x-python",
   "name": "python",
   "nbconvert_exporter": "python",
   "pygments_lexer": "ipython3",
   "version": "3.11.5"
  }
 },
 "nbformat": 4,
 "nbformat_minor": 5
}
